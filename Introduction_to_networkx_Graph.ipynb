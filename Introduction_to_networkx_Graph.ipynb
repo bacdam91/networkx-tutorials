{
  "nbformat": 4,
  "nbformat_minor": 0,
  "metadata": {
    "colab": {
      "name": "Introduction to networkx.Graph",
      "provenance": [],
      "collapsed_sections": [],
      "include_colab_link": true
    },
    "kernelspec": {
      "name": "python3",
      "display_name": "Python 3"
    }
  },
  "cells": [
    {
      "cell_type": "markdown",
      "metadata": {
        "id": "view-in-github",
        "colab_type": "text"
      },
      "source": [
        "<a href=\"https://colab.research.google.com/github/bacdam91/networkx-tutorials/blob/master/Introduction_to_networkx_Graph.ipynb\" target=\"_parent\"><img src=\"https://colab.research.google.com/assets/colab-badge.svg\" alt=\"Open In Colab\"/></a>"
      ]
    },
    {
      "cell_type": "markdown",
      "metadata": {
        "id": "k1ZtKjkV8zV0",
        "colab_type": "text"
      },
      "source": [
        "# Networkx\n",
        "\n"
      ]
    },
    {
      "cell_type": "markdown",
      "metadata": {
        "id": "JNxSNhhN83zA",
        "colab_type": "text"
      },
      "source": [
        "### Importing the Networkx package\n",
        "\n",
        "In order to use the Networkx package we have to import it into our project with the following line of codes."
      ]
    },
    {
      "cell_type": "code",
      "metadata": {
        "id": "DjRSQkrvbQoq",
        "colab_type": "code",
        "colab": {}
      },
      "source": [
        "import networkx as nx"
      ],
      "execution_count": 0,
      "outputs": []
    },
    {
      "cell_type": "code",
      "metadata": {
        "id": "GWt8-zvAmBGQ",
        "colab_type": "code",
        "colab": {}
      },
      "source": [
        "G = nx.Graph()"
      ],
      "execution_count": 0,
      "outputs": []
    },
    {
      "cell_type": "code",
      "metadata": {
        "id": "zYwqXT010LBl",
        "colab_type": "code",
        "colab": {
          "base_uri": "https://localhost:8080/",
          "height": 34
        },
        "outputId": "1c514d22-eee6-4966-f973-61e8eee21f4e"
      },
      "source": [
        "G.add_node(\"a\")\n",
        "G.nodes"
      ],
      "execution_count": 3,
      "outputs": [
        {
          "output_type": "execute_result",
          "data": {
            "text/plain": [
              "NodeView(('a',))"
            ]
          },
          "metadata": {
            "tags": []
          },
          "execution_count": 3
        }
      ]
    },
    {
      "cell_type": "code",
      "metadata": {
        "id": "KVQbzTl90QRv",
        "colab_type": "code",
        "colab": {
          "base_uri": "https://localhost:8080/",
          "height": 34
        },
        "outputId": "40a2c7fe-48a0-4367-83d7-105a89dbdd00"
      },
      "source": [
        "G.edges"
      ],
      "execution_count": 4,
      "outputs": [
        {
          "output_type": "execute_result",
          "data": {
            "text/plain": [
              "EdgeView([])"
            ]
          },
          "metadata": {
            "tags": []
          },
          "execution_count": 4
        }
      ]
    },
    {
      "cell_type": "code",
      "metadata": {
        "id": "IycJKx1e0Tqt",
        "colab_type": "code",
        "colab": {
          "base_uri": "https://localhost:8080/",
          "height": 34
        },
        "outputId": "622a03e8-25a9-49bc-970c-2bcbee7ac0a6"
      },
      "source": [
        "nodelist = [\"b\", 1]\n",
        "G.add_nodes_from(nodelist)\n",
        "G.nodes"
      ],
      "execution_count": 5,
      "outputs": [
        {
          "output_type": "execute_result",
          "data": {
            "text/plain": [
              "NodeView(('a', 'b', 1))"
            ]
          },
          "metadata": {
            "tags": []
          },
          "execution_count": 5
        }
      ]
    },
    {
      "cell_type": "code",
      "metadata": {
        "id": "fyGd8_g90cPM",
        "colab_type": "code",
        "colab": {
          "base_uri": "https://localhost:8080/",
          "height": 34
        },
        "outputId": "b1e92425-b1de-4e1c-a087-18162ea00438"
      },
      "source": [
        "G.edges"
      ],
      "execution_count": 6,
      "outputs": [
        {
          "output_type": "execute_result",
          "data": {
            "text/plain": [
              "EdgeView([])"
            ]
          },
          "metadata": {
            "tags": []
          },
          "execution_count": 6
        }
      ]
    },
    {
      "cell_type": "code",
      "metadata": {
        "id": "3tCUu1zZ2pf6",
        "colab_type": "code",
        "colab": {}
      },
      "source": [
        "G.add_edge(\"a\", \"b\")"
      ],
      "execution_count": 0,
      "outputs": []
    },
    {
      "cell_type": "code",
      "metadata": {
        "id": "9t1lnBUH21Il",
        "colab_type": "code",
        "colab": {
          "base_uri": "https://localhost:8080/",
          "height": 34
        },
        "outputId": "64eecfd2-0763-4d77-c044-0f5d5febe70e"
      },
      "source": [
        "G.nodes"
      ],
      "execution_count": 8,
      "outputs": [
        {
          "output_type": "execute_result",
          "data": {
            "text/plain": [
              "NodeView(('a', 'b', 1))"
            ]
          },
          "metadata": {
            "tags": []
          },
          "execution_count": 8
        }
      ]
    },
    {
      "cell_type": "code",
      "metadata": {
        "id": "A8vQ33VT299v",
        "colab_type": "code",
        "colab": {
          "base_uri": "https://localhost:8080/",
          "height": 34
        },
        "outputId": "69645872-743c-49fa-8eee-5c4cd4946914"
      },
      "source": [
        "G.edges"
      ],
      "execution_count": 9,
      "outputs": [
        {
          "output_type": "execute_result",
          "data": {
            "text/plain": [
              "EdgeView([('a', 'b')])"
            ]
          },
          "metadata": {
            "tags": []
          },
          "execution_count": 9
        }
      ]
    },
    {
      "cell_type": "code",
      "metadata": {
        "id": "9HSHoAkx0hPJ",
        "colab_type": "code",
        "colab": {}
      },
      "source": [
        "edgelist = [[\"a\", \"b\"], [1, \"b\"], [\"c\", 1]]\n",
        "\n",
        "G.add_edges_from(edgelist)"
      ],
      "execution_count": 0,
      "outputs": []
    },
    {
      "cell_type": "code",
      "metadata": {
        "id": "jD75N9Tz3CR8",
        "colab_type": "code",
        "colab": {
          "base_uri": "https://localhost:8080/",
          "height": 34
        },
        "outputId": "92e9c46a-fd49-4361-f2e6-d47dacc68d73"
      },
      "source": [
        "G.nodes"
      ],
      "execution_count": 11,
      "outputs": [
        {
          "output_type": "execute_result",
          "data": {
            "text/plain": [
              "NodeView(('a', 'b', 1, 'c'))"
            ]
          },
          "metadata": {
            "tags": []
          },
          "execution_count": 11
        }
      ]
    },
    {
      "cell_type": "code",
      "metadata": {
        "id": "8Y5wbbTE3DEx",
        "colab_type": "code",
        "colab": {
          "base_uri": "https://localhost:8080/",
          "height": 34
        },
        "outputId": "8fb98b26-fb4e-4492-8a7d-e204c0e4eda4"
      },
      "source": [
        "G.edges"
      ],
      "execution_count": 12,
      "outputs": [
        {
          "output_type": "execute_result",
          "data": {
            "text/plain": [
              "EdgeView([('a', 'b'), ('b', 1), (1, 'c')])"
            ]
          },
          "metadata": {
            "tags": []
          },
          "execution_count": 12
        }
      ]
    },
    {
      "cell_type": "code",
      "metadata": {
        "id": "31v4N5NE5Jv0",
        "colab_type": "code",
        "colab": {
          "base_uri": "https://localhost:8080/",
          "height": 248
        },
        "outputId": "86305745-87eb-4969-e3ec-a2e7405b440c"
      },
      "source": [
        "nx.draw_networkx(G)"
      ],
      "execution_count": 13,
      "outputs": [
        {
          "output_type": "display_data",
          "data": {
            "image/png": "[encoded data removed]",
            "text/plain": [
              "<Figure size 432x288 with 1 Axes>"
            ]
          },
          "metadata": {
            "tags": []
          }
        }
      ]
    },
    {
      "cell_type": "code",
      "metadata": {
        "id": "mIWdnsg33DtR",
        "colab_type": "code",
        "colab": {
          "base_uri": "https://localhost:8080/",
          "height": 34
        },
        "outputId": "b7d85cc8-26f5-4a38-f11e-5449fdc6cf57"
      },
      "source": [
        "G.add_node(\"corgi\")\n",
        "G.nodes"
      ],
      "execution_count": 14,
      "outputs": [
        {
          "output_type": "execute_result",
          "data": {
            "text/plain": [
              "NodeView(('a', 'b', 1, 'c', 'corgi'))"
            ]
          },
          "metadata": {
            "tags": []
          },
          "execution_count": 14
        }
      ]
    },
    {
      "cell_type": "code",
      "metadata": {
        "id": "XSWlumAT5SG1",
        "colab_type": "code",
        "colab": {
          "base_uri": "https://localhost:8080/",
          "height": 248
        },
        "outputId": "2fe0accd-e012-452d-8040-4fb18f8e6986"
      },
      "source": [
        "nx.draw_networkx(G)"
      ],
      "execution_count": 15,
      "outputs": [
        {
          "output_type": "display_data",
          "data": {
            "image/png": "[encoded data removed]",
            "text/plain": [
              "<Figure size 432x288 with 1 Axes>"
            ]
          },
          "metadata": {
            "tags": []
          }
        }
      ]
    },
    {
      "cell_type": "code",
      "metadata": {
        "id": "UWfpLLev3OuU",
        "colab_type": "code",
        "colab": {
          "base_uri": "https://localhost:8080/",
          "height": 34
        },
        "outputId": "2b855139-9a51-4746-cc20-38e3ba4ec60e"
      },
      "source": [
        "G.add_nodes_from(\"poodle\")\n",
        "G.nodes"
      ],
      "execution_count": 16,
      "outputs": [
        {
          "output_type": "execute_result",
          "data": {
            "text/plain": [
              "NodeView(('a', 'b', 1, 'c', 'corgi', 'p', 'o', 'd', 'l', 'e'))"
            ]
          },
          "metadata": {
            "tags": []
          },
          "execution_count": 16
        }
      ]
    },
    {
      "cell_type": "code",
      "metadata": {
        "id": "1WmqofPe5YSu",
        "colab_type": "code",
        "colab": {
          "base_uri": "https://localhost:8080/",
          "height": 248
        },
        "outputId": "4eba1970-e351-4e63-b491-cfcf37ecd3f0"
      },
      "source": [
        "nx.draw_networkx(G)"
      ],
      "execution_count": 17,
      "outputs": [
        {
          "output_type": "display_data",
          "data": {
            "image/png": "[encoded data removed]",
            "text/plain": [
              "<Figure size 432x288 with 1 Axes>"
            ]
          },
          "metadata": {
            "tags": []
          }
        }
      ]
    },
    {
      "cell_type": "code",
      "metadata": {
        "id": "d46AQp1s3Vh4",
        "colab_type": "code",
        "colab": {
          "base_uri": "https://localhost:8080/",
          "height": 34
        },
        "outputId": "06b9487c-862e-4e22-a653-f0cec5267c44"
      },
      "source": [
        "poodle_edgelist = [[\"p\", \"o\"], [\"o\", \"d\"], [\"p\", \"l\"], [\"corgi\", \"e\"], [\"corgi\", \"o\"]]\n",
        "G.add_edges_from(poodle_edgelist)\n",
        "G.edges"
      ],
      "execution_count": 18,
      "outputs": [
        {
          "output_type": "execute_result",
          "data": {
            "text/plain": [
              "EdgeView([('a', 'b'), ('b', 1), (1, 'c'), ('corgi', 'e'), ('corgi', 'o'), ('p', 'o'), ('p', 'l'), ('o', 'd')])"
            ]
          },
          "metadata": {
            "tags": []
          },
          "execution_count": 18
        }
      ]
    },
    {
      "cell_type": "code",
      "metadata": {
        "id": "WmZFKBf36lac",
        "colab_type": "code",
        "colab": {
          "base_uri": "https://localhost:8080/",
          "height": 248
        },
        "outputId": "c553aa37-4ddd-406a-dd57-4c422d2b9962"
      },
      "source": [
        "nx.draw_networkx(G)"
      ],
      "execution_count": 19,
      "outputs": [
        {
          "output_type": "display_data",
          "data": {
            "image/png": "[encoded data removed]",
            "text/plain": [
              "<Figure size 432x288 with 1 Axes>"
            ]
          },
          "metadata": {
            "tags": []
          }
        }
      ]
    },
    {
      "cell_type": "code",
      "metadata": {
        "id": "M6BSDhsK6svm",
        "colab_type": "code",
        "colab": {
          "base_uri": "https://localhost:8080/",
          "height": 248
        },
        "outputId": "4a8eb8c2-1000-4e6f-f8c0-155685d65c37"
      },
      "source": [
        "a_corgi_edge = [\"a\", \"corgi\"]\n",
        "G.add_edge(*a_corgi_edge)\n",
        "nx.draw_networkx(G)"
      ],
      "execution_count": 20,
      "outputs": [
        {
          "output_type": "display_data",
          "data": {
            "image/png": "[encoded data removed]",
            "text/plain": [
              "<Figure size 432x288 with 1 Axes>"
            ]
          },
          "metadata": {
            "tags": []
          }
        }
      ]
    },
    {
      "cell_type": "code",
      "metadata": {
        "id": "UIOEhkKz3XTD",
        "colab_type": "code",
        "colab": {
          "base_uri": "https://localhost:8080/",
          "height": 34
        },
        "outputId": "5244c1b4-0ebd-4995-9ecf-c78aef4f5e68"
      },
      "source": [
        "H = nx.Graph()\n",
        "\n",
        "edgelist_02 = [[\"Tony Stark\", \"Steve Rogers\"], [\"Steve Rogers\", \"Bucky Barnes\"], [\"Bucky Barnes\", \"Vision\"], [\"Vision\", \"Tony Stark\"]]\n",
        "\n",
        "H.add_edges_from(edgelist_02)\n",
        "H.nodes"
      ],
      "execution_count": 21,
      "outputs": [
        {
          "output_type": "execute_result",
          "data": {
            "text/plain": [
              "NodeView(('Tony Stark', 'Steve Rogers', 'Bucky Barnes', 'Vision'))"
            ]
          },
          "metadata": {
            "tags": []
          },
          "execution_count": 21
        }
      ]
    },
    {
      "cell_type": "code",
      "metadata": {
        "id": "55byG9Hp33w8",
        "colab_type": "code",
        "colab": {
          "base_uri": "https://localhost:8080/",
          "height": 34
        },
        "outputId": "f943ddfe-9a96-4cc3-c568-5a5c2966ac04"
      },
      "source": [
        "H.edges"
      ],
      "execution_count": 22,
      "outputs": [
        {
          "output_type": "execute_result",
          "data": {
            "text/plain": [
              "EdgeView([('Tony Stark', 'Steve Rogers'), ('Tony Stark', 'Vision'), ('Steve Rogers', 'Bucky Barnes'), ('Bucky Barnes', 'Vision')])"
            ]
          },
          "metadata": {
            "tags": []
          },
          "execution_count": 22
        }
      ]
    },
    {
      "cell_type": "code",
      "metadata": {
        "id": "TP85Sbek6-i2",
        "colab_type": "code",
        "colab": {
          "base_uri": "https://localhost:8080/",
          "height": 248
        },
        "outputId": "438400f7-589d-46d0-abc8-c8e11707f5dd"
      },
      "source": [
        "nx.draw_networkx(H)"
      ],
      "execution_count": 23,
      "outputs": [
        {
          "output_type": "display_data",
          "data": {
            "image/png": "[encoded data removed]",
            "text/plain": [
              "<Figure size 432x288 with 1 Axes>"
            ]
          },
          "metadata": {
            "tags": []
          }
        }
      ]
    },
    {
      "cell_type": "code",
      "metadata": {
        "id": "V0DyHL6h3665",
        "colab_type": "code",
        "colab": {}
      },
      "source": [
        "G.add_nodes_from(H)"
      ],
      "execution_count": 0,
      "outputs": []
    },
    {
      "cell_type": "code",
      "metadata": {
        "id": "BqkB7sPx4BGL",
        "colab_type": "code",
        "colab": {
          "base_uri": "https://localhost:8080/",
          "height": 34
        },
        "outputId": "0fc0cbf7-8736-4a02-cf4d-9e4837cb8614"
      },
      "source": [
        "G.nodes"
      ],
      "execution_count": 25,
      "outputs": [
        {
          "output_type": "execute_result",
          "data": {
            "text/plain": [
              "NodeView(('a', 'b', 1, 'c', 'corgi', 'p', 'o', 'd', 'l', 'e', 'Tony Stark', 'Steve Rogers', 'Bucky Barnes', 'Vision'))"
            ]
          },
          "metadata": {
            "tags": []
          },
          "execution_count": 25
        }
      ]
    },
    {
      "cell_type": "code",
      "metadata": {
        "id": "sG-pBUj14CZe",
        "colab_type": "code",
        "colab": {
          "base_uri": "https://localhost:8080/",
          "height": 34
        },
        "outputId": "1c432437-2abb-447b-e018-4679a9b61e4b"
      },
      "source": [
        "G.edges"
      ],
      "execution_count": 26,
      "outputs": [
        {
          "output_type": "execute_result",
          "data": {
            "text/plain": [
              "EdgeView([('a', 'b'), ('a', 'corgi'), ('b', 1), (1, 'c'), ('corgi', 'e'), ('corgi', 'o'), ('p', 'o'), ('p', 'l'), ('o', 'd')])"
            ]
          },
          "metadata": {
            "tags": []
          },
          "execution_count": 26
        }
      ]
    },
    {
      "cell_type": "code",
      "metadata": {
        "id": "2CS50clM4DxK",
        "colab_type": "code",
        "colab": {}
      },
      "source": [
        "G.add_edges_from(H.edges)"
      ],
      "execution_count": 0,
      "outputs": []
    },
    {
      "cell_type": "code",
      "metadata": {
        "id": "ifKfHf944HVa",
        "colab_type": "code",
        "colab": {
          "base_uri": "https://localhost:8080/",
          "height": 54
        },
        "outputId": "8797ceb3-c215-4332-c3b1-42c2368db9e8"
      },
      "source": [
        "G.edges"
      ],
      "execution_count": 28,
      "outputs": [
        {
          "output_type": "execute_result",
          "data": {
            "text/plain": [
              "EdgeView([('a', 'b'), ('a', 'corgi'), ('b', 1), (1, 'c'), ('corgi', 'e'), ('corgi', 'o'), ('p', 'o'), ('p', 'l'), ('o', 'd'), ('Tony Stark', 'Steve Rogers'), ('Tony Stark', 'Vision'), ('Steve Rogers', 'Bucky Barnes'), ('Bucky Barnes', 'Vision')])"
            ]
          },
          "metadata": {
            "tags": []
          },
          "execution_count": 28
        }
      ]
    },
    {
      "cell_type": "code",
      "metadata": {
        "id": "dRoudrH_7JFr",
        "colab_type": "code",
        "colab": {
          "base_uri": "https://localhost:8080/",
          "height": 248
        },
        "outputId": "57b16075-0f8d-451d-f267-90e8ff003068"
      },
      "source": [
        "avengers_corgi_edge = [\"Tony Stark\", \"corgi\"]\n",
        "G.add_edge(*avengers_corgi_edge)\n",
        "nx.draw_networkx(G)"
      ],
      "execution_count": 29,
      "outputs": [
        {
          "output_type": "display_data",
          "data": {
            "image/png": "[encoded data removed]",
            "text/plain": [
              "<Figure size 432x288 with 1 Axes>"
            ]
          },
          "metadata": {
            "tags": []
          }
        }
      ]
    },
    {
      "cell_type": "code",
      "metadata": {
        "id": "NbiyoMR94LNI",
        "colab_type": "code",
        "colab": {
          "base_uri": "https://localhost:8080/",
          "height": 34
        },
        "outputId": "20b2f6f3-c9ae-420c-a748-72a74c944224"
      },
      "source": [
        "I = nx.Graph()\n",
        "edgelist_03 = [[\"Batman\", \"Superman\"], [\"Wonderwoman\", \"Batman\"], [\"Superman\", \"Wonderwoman\"], [\"Batman\", \"Flash\"], [\"Batman\", \"Joker\"]]\n",
        "I.add_edges_from(edgelist_03)\n",
        "I.edges"
      ],
      "execution_count": 30,
      "outputs": [
        {
          "output_type": "execute_result",
          "data": {
            "text/plain": [
              "EdgeView([('Batman', 'Superman'), ('Batman', 'Wonderwoman'), ('Batman', 'Flash'), ('Batman', 'Joker'), ('Superman', 'Wonderwoman')])"
            ]
          },
          "metadata": {
            "tags": []
          },
          "execution_count": 30
        }
      ]
    },
    {
      "cell_type": "code",
      "metadata": {
        "id": "ZbrFf6YN4fJD",
        "colab_type": "code",
        "colab": {
          "base_uri": "https://localhost:8080/",
          "height": 34
        },
        "outputId": "23a16ad2-a14f-46dc-81f7-8687999f5960"
      },
      "source": [
        "I.nodes"
      ],
      "execution_count": 31,
      "outputs": [
        {
          "output_type": "execute_result",
          "data": {
            "text/plain": [
              "NodeView(('Batman', 'Superman', 'Wonderwoman', 'Flash', 'Joker'))"
            ]
          },
          "metadata": {
            "tags": []
          },
          "execution_count": 31
        }
      ]
    },
    {
      "cell_type": "code",
      "metadata": {
        "id": "-uNGwt__7dND",
        "colab_type": "code",
        "colab": {
          "base_uri": "https://localhost:8080/",
          "height": 248
        },
        "outputId": "cb93bcca-c39e-4cd7-afb4-b573d5d658de"
      },
      "source": [
        "nx.draw_networkx(I)"
      ],
      "execution_count": 32,
      "outputs": [
        {
          "output_type": "display_data",
          "data": {
            "image/png": "[encoded data removed]",
            "text/plain": [
              "<Figure size 432x288 with 1 Axes>"
            ]
          },
          "metadata": {
            "tags": []
          }
        }
      ]
    },
    {
      "cell_type": "code",
      "metadata": {
        "id": "BOSpvVky4f9H",
        "colab_type": "code",
        "colab": {
          "base_uri": "https://localhost:8080/",
          "height": 34
        },
        "outputId": "a34deee1-90ec-43b4-c209-0553bb581da6"
      },
      "source": [
        "G.add_node(I)\n",
        "G.nodes"
      ],
      "execution_count": 33,
      "outputs": [
        {
          "output_type": "execute_result",
          "data": {
            "text/plain": [
              "NodeView(('a', 'b', 1, 'c', 'corgi', 'p', 'o', 'd', 'l', 'e', 'Tony Stark', 'Steve Rogers', 'Bucky Barnes', 'Vision', <networkx.classes.graph.Graph object at 0x7f02119f1278>))"
            ]
          },
          "metadata": {
            "tags": []
          },
          "execution_count": 33
        }
      ]
    },
    {
      "cell_type": "code",
      "metadata": {
        "id": "wgh_aFRQ4nu3",
        "colab_type": "code",
        "colab": {
          "base_uri": "https://localhost:8080/",
          "height": 54
        },
        "outputId": "8b25b205-32e2-40a6-a59d-0d8edcd28a5b"
      },
      "source": [
        "G.add_edge(\"Vision\", I)\n",
        "G.edges"
      ],
      "execution_count": 34,
      "outputs": [
        {
          "output_type": "execute_result",
          "data": {
            "text/plain": [
              "EdgeView([('a', 'b'), ('a', 'corgi'), ('b', 1), (1, 'c'), ('corgi', 'e'), ('corgi', 'o'), ('corgi', 'Tony Stark'), ('p', 'o'), ('p', 'l'), ('o', 'd'), ('Tony Stark', 'Steve Rogers'), ('Tony Stark', 'Vision'), ('Steve Rogers', 'Bucky Barnes'), ('Bucky Barnes', 'Vision'), ('Vision', <networkx.classes.graph.Graph object at 0x7f02119f1278>)])"
            ]
          },
          "metadata": {
            "tags": []
          },
          "execution_count": 34
        }
      ]
    },
    {
      "cell_type": "code",
      "metadata": {
        "id": "6VlBrtjx4vmE",
        "colab_type": "code",
        "colab": {
          "base_uri": "https://localhost:8080/",
          "height": 248
        },
        "outputId": "1fe95802-96fa-42db-9e50-e9370b68e719"
      },
      "source": [
        "nx.draw_networkx(G)"
      ],
      "execution_count": 35,
      "outputs": [
        {
          "output_type": "display_data",
          "data": {
            "image/png": "[encoded data removed]",
            "text/plain": [
              "<Figure size 432x288 with 1 Axes>"
            ]
          },
          "metadata": {
            "tags": []
          }
        }
      ]
    },
    {
      "cell_type": "code",
      "metadata": {
        "id": "R2KYmGnY43S1",
        "colab_type": "code",
        "colab": {
          "base_uri": "https://localhost:8080/",
          "height": 34
        },
        "outputId": "68d84fc6-2b20-4249-b660-eec4b96b87d5"
      },
      "source": [
        "H.clear()\n",
        "H.nodes"
      ],
      "execution_count": 36,
      "outputs": [
        {
          "output_type": "execute_result",
          "data": {
            "text/plain": [
              "NodeView(())"
            ]
          },
          "metadata": {
            "tags": []
          },
          "execution_count": 36
        }
      ]
    },
    {
      "cell_type": "code",
      "metadata": {
        "id": "84Dq3iJS7oPt",
        "colab_type": "code",
        "colab": {
          "base_uri": "https://localhost:8080/",
          "height": 248
        },
        "outputId": "0d0749c1-2a1e-4539-e06a-94a45243a4be"
      },
      "source": [
        "nx.draw_networkx(G)"
      ],
      "execution_count": 37,
      "outputs": [
        {
          "output_type": "display_data",
          "data": {
            "image/png": "[encoded data removed]",
            "text/plain": [
              "<Figure size 432x288 with 1 Axes>"
            ]
          },
          "metadata": {
            "tags": []
          }
        }
      ]
    },
    {
      "cell_type": "code",
      "metadata": {
        "id": "UWxkjwPK7sj2",
        "colab_type": "code",
        "colab": {}
      },
      "source": [
        ""
      ],
      "execution_count": 0,
      "outputs": []
    }
  ]
}