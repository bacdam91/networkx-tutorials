{
  "nbformat": 4,
  "nbformat_minor": 0,
  "metadata": {
    "colab": {
      "name": "Introduction to networkx.Graph",
      "provenance": [],
      "collapsed_sections": [],
      "include_colab_link": true
    },
    "kernelspec": {
      "name": "python3",
      "display_name": "Python 3"
    }
  },
  "cells": [
    {
      "cell_type": "markdown",
      "metadata": {
        "id": "view-in-github",
        "colab_type": "text"
      },
      "source": [
        "<a href=\"https://colab.research.google.com/github/bacdam91/networkx-tutorials/blob/master/Introduction_to_networkx_Graph.ipynb\" target=\"_parent\"><img src=\"https://colab.research.google.com/assets/colab-badge.svg\" alt=\"Open In Colab\"/></a>"
      ]
    },
    {
      "cell_type": "code",
      "metadata": {
        "id": "DjRSQkrvbQoq",
        "colab_type": "code",
        "colab": {}
      },
      "source": [
        "import networkx as nx\n",
        "import matplotlib.pyplot as plt"
      ],
      "execution_count": 0,
      "outputs": []
    },
    {
      "cell_type": "code",
      "metadata": {
        "id": "GWt8-zvAmBGQ",
        "colab_type": "code",
        "colab": {}
      },
      "source": [
        "G = nx.Graph()"
      ],
      "execution_count": 0,
      "outputs": []
    },
    {
      "cell_type": "code",
      "metadata": {
        "id": "zYwqXT010LBl",
        "colab_type": "code",
        "colab": {
          "base_uri": "https://localhost:8080/",
          "height": 34
        },
        "outputId": "896e1d3f-c6bc-4971-bbca-1216c6950ceb"
      },
      "source": [
        "G.add_node(\"a\")\n",
        "G.nodes"
      ],
      "execution_count": 3,
      "outputs": [
        {
          "output_type": "execute_result",
          "data": {
            "text/plain": [
              "NodeView(('a',))"
            ]
          },
          "metadata": {
            "tags": []
          },
          "execution_count": 3
        }
      ]
    },
    {
      "cell_type": "code",
      "metadata": {
        "id": "KVQbzTl90QRv",
        "colab_type": "code",
        "colab": {
          "base_uri": "https://localhost:8080/",
          "height": 34
        },
        "outputId": "fad5b39d-4417-4c20-cc0f-21eeb5adc92c"
      },
      "source": [
        "G.edges"
      ],
      "execution_count": 4,
      "outputs": [
        {
          "output_type": "execute_result",
          "data": {
            "text/plain": [
              "EdgeView([])"
            ]
          },
          "metadata": {
            "tags": []
          },
          "execution_count": 4
        }
      ]
    },
    {
      "cell_type": "code",
      "metadata": {
        "id": "IycJKx1e0Tqt",
        "colab_type": "code",
        "colab": {
          "base_uri": "https://localhost:8080/",
          "height": 34
        },
        "outputId": "74dbe207-3f4b-4a01-cf4e-c848e2d0c35d"
      },
      "source": [
        "nodelist = [\"b\", 1]\n",
        "G.add_nodes_from(nodelist)\n",
        "G.nodes"
      ],
      "execution_count": 5,
      "outputs": [
        {
          "output_type": "execute_result",
          "data": {
            "text/plain": [
              "NodeView(('a', 'b', 1))"
            ]
          },
          "metadata": {
            "tags": []
          },
          "execution_count": 5
        }
      ]
    },
    {
      "cell_type": "code",
      "metadata": {
        "id": "fyGd8_g90cPM",
        "colab_type": "code",
        "colab": {
          "base_uri": "https://localhost:8080/",
          "height": 34
        },
        "outputId": "bc376702-c9c4-40ce-9f27-fc128158bb47"
      },
      "source": [
        "G.edges"
      ],
      "execution_count": 6,
      "outputs": [
        {
          "output_type": "execute_result",
          "data": {
            "text/plain": [
              "EdgeView([])"
            ]
          },
          "metadata": {
            "tags": []
          },
          "execution_count": 6
        }
      ]
    },
    {
      "cell_type": "code",
      "metadata": {
        "id": "3tCUu1zZ2pf6",
        "colab_type": "code",
        "colab": {}
      },
      "source": [
        "G.add_edge(\"a\", \"b\")"
      ],
      "execution_count": 0,
      "outputs": []
    },
    {
      "cell_type": "code",
      "metadata": {
        "id": "9t1lnBUH21Il",
        "colab_type": "code",
        "colab": {
          "base_uri": "https://localhost:8080/",
          "height": 34
        },
        "outputId": "806613bc-7ee3-47e1-b041-650f015a51ca"
      },
      "source": [
        "G.nodes"
      ],
      "execution_count": 8,
      "outputs": [
        {
          "output_type": "execute_result",
          "data": {
            "text/plain": [
              "NodeView(('a', 'b', 1))"
            ]
          },
          "metadata": {
            "tags": []
          },
          "execution_count": 8
        }
      ]
    },
    {
      "cell_type": "code",
      "metadata": {
        "id": "A8vQ33VT299v",
        "colab_type": "code",
        "colab": {
          "base_uri": "https://localhost:8080/",
          "height": 34
        },
        "outputId": "07238b1e-1c20-4039-a069-b9158ed7b0d4"
      },
      "source": [
        "G.edges"
      ],
      "execution_count": 9,
      "outputs": [
        {
          "output_type": "execute_result",
          "data": {
            "text/plain": [
              "EdgeView([('a', 'b')])"
            ]
          },
          "metadata": {
            "tags": []
          },
          "execution_count": 9
        }
      ]
    },
    {
      "cell_type": "code",
      "metadata": {
        "id": "9HSHoAkx0hPJ",
        "colab_type": "code",
        "colab": {}
      },
      "source": [
        "edgelist = [[\"a\", \"b\"], [1, \"b\"], [\"c\", 1]]\n",
        "\n",
        "G.add_edges_from(edgelist)"
      ],
      "execution_count": 0,
      "outputs": []
    },
    {
      "cell_type": "code",
      "metadata": {
        "id": "jD75N9Tz3CR8",
        "colab_type": "code",
        "colab": {
          "base_uri": "https://localhost:8080/",
          "height": 34
        },
        "outputId": "14a4d775-7936-43be-ae65-6ab7b0849cce"
      },
      "source": [
        "G.nodes"
      ],
      "execution_count": 11,
      "outputs": [
        {
          "output_type": "execute_result",
          "data": {
            "text/plain": [
              "NodeView(('a', 'b', 1, 'c'))"
            ]
          },
          "metadata": {
            "tags": []
          },
          "execution_count": 11
        }
      ]
    },
    {
      "cell_type": "code",
      "metadata": {
        "id": "8Y5wbbTE3DEx",
        "colab_type": "code",
        "colab": {
          "base_uri": "https://localhost:8080/",
          "height": 34
        },
        "outputId": "5a638d6c-bee0-4f6a-c16c-17cd66acb46d"
      },
      "source": [
        "G.edges"
      ],
      "execution_count": 12,
      "outputs": [
        {
          "output_type": "execute_result",
          "data": {
            "text/plain": [
              "EdgeView([('a', 'b'), ('b', 1), (1, 'c')])"
            ]
          },
          "metadata": {
            "tags": []
          },
          "execution_count": 12
        }
      ]
    },
    {
      "cell_type": "code",
      "metadata": {
        "id": "31v4N5NE5Jv0",
        "colab_type": "code",
        "colab": {
          "base_uri": "https://localhost:8080/",
          "height": 248
        },
        "outputId": "721a90f6-fbca-409a-9039-e0a85e35602a"
      },
      "source": [
        "nx.draw_networkx(G)"
      ],
      "execution_count": 13,
      "outputs": [
        {
          "output_type": "display_data",
          "data": {
            "image/png": "[encoded data removed]",
            "text/plain": [
              "<Figure size 432x288 with 1 Axes>"
            ]
          },
          "metadata": {
            "tags": []
          }
        }
      ]
    },
    {
      "cell_type": "code",
      "metadata": {
        "id": "mIWdnsg33DtR",
        "colab_type": "code",
        "colab": {
          "base_uri": "https://localhost:8080/",
          "height": 34
        },
        "outputId": "f7760b7c-9c8d-44f9-942d-df5c8e3f4ec8"
      },
      "source": [
        "G.add_node(\"corgi\")\n",
        "G.nodes"
      ],
      "execution_count": 14,
      "outputs": [
        {
          "output_type": "execute_result",
          "data": {
            "text/plain": [
              "NodeView(('a', 'b', 1, 'c', 'corgi'))"
            ]
          },
          "metadata": {
            "tags": []
          },
          "execution_count": 14
        }
      ]
    },
    {
      "cell_type": "code",
      "metadata": {
        "id": "XSWlumAT5SG1",
        "colab_type": "code",
        "colab": {
          "base_uri": "https://localhost:8080/",
          "height": 248
        },
        "outputId": "836f6c92-a84e-47f9-fd57-d9001eb7234d"
      },
      "source": [
        "nx.draw_networkx(G)"
      ],
      "execution_count": 15,
      "outputs": [
        {
          "output_type": "display_data",
          "data": {
            "image/png": "[encoded data removed]",
            "text/plain": [
              "<Figure size 432x288 with 1 Axes>"
            ]
          },
          "metadata": {
            "tags": []
          }
        }
      ]
    },
    {
      "cell_type": "code",
      "metadata": {
        "id": "UWfpLLev3OuU",
        "colab_type": "code",
        "colab": {
          "base_uri": "https://localhost:8080/",
          "height": 34
        },
        "outputId": "05ae0f20-8020-43d3-a887-b3b8d5d60b1b"
      },
      "source": [
        "G.add_nodes_from(\"poodle\")\n",
        "G.nodes"
      ],
      "execution_count": 17,
      "outputs": [
        {
          "output_type": "execute_result",
          "data": {
            "text/plain": [
              "NodeView(('a', 'b', 1, 'c', 'corgi', 'p', 'o', 'd', 'l', 'e'))"
            ]
          },
          "metadata": {
            "tags": []
          },
          "execution_count": 17
        }
      ]
    },
    {
      "cell_type": "code",
      "metadata": {
        "id": "1WmqofPe5YSu",
        "colab_type": "code",
        "colab": {
          "base_uri": "https://localhost:8080/",
          "height": 248
        },
        "outputId": "30bd08c3-b4fd-423b-8da8-2f28460b75f6"
      },
      "source": [
        "nx.draw_networkx(G)"
      ],
      "execution_count": 18,
      "outputs": [
        {
          "output_type": "display_data",
          "data": {
            "image/png": "[encoded data removed]",
            "text/plain": [
              "<Figure size 432x288 with 1 Axes>"
            ]
          },
          "metadata": {
            "tags": []
          }
        }
      ]
    },
    {
      "cell_type": "code",
      "metadata": {
        "id": "d46AQp1s3Vh4",
        "colab_type": "code",
        "colab": {
          "base_uri": "https://localhost:8080/",
          "height": 34
        },
        "outputId": "feee8418-3435-4142-cd75-fb3ed7c72eec"
      },
      "source": [
        "poodle_edgelist = [[\"p\", \"o\"], [\"o\", \"d\"], [\"p\", \"l\"], [\"corgi\", \"e\"], [\"corgi\", \"o\"]]\n",
        "G.add_edges_from(poodle_edgelist)\n",
        "G.edges"
      ],
      "execution_count": 19,
      "outputs": [
        {
          "output_type": "execute_result",
          "data": {
            "text/plain": [
              "EdgeView([('a', 'b'), ('b', 1), (1, 'c'), ('corgi', 'e'), ('corgi', 'o'), ('p', 'o'), ('p', 'l'), ('o', 'd')])"
            ]
          },
          "metadata": {
            "tags": []
          },
          "execution_count": 19
        }
      ]
    },
    {
      "cell_type": "code",
      "metadata": {
        "id": "WmZFKBf36lac",
        "colab_type": "code",
        "colab": {
          "base_uri": "https://localhost:8080/",
          "height": 248
        },
        "outputId": "f357b333-cd63-42a2-ed29-3b08de2e6e4a"
      },
      "source": [
        "nx.draw_networkx(G)"
      ],
      "execution_count": 21,
      "outputs": [
        {
          "output_type": "display_data",
          "data": {
            "image/png": "[encoded data removed]",
            "text/plain": [
              "<Figure size 432x288 with 1 Axes>"
            ]
          },
          "metadata": {
            "tags": []
          }
        }
      ]
    },
    {
      "cell_type": "code",
      "metadata": {
        "id": "M6BSDhsK6svm",
        "colab_type": "code",
        "colab": {
          "base_uri": "https://localhost:8080/",
          "height": 248
        },
        "outputId": "24000de8-5227-48eb-91ef-1274cbd6e013"
      },
      "source": [
        "a_corgi_edge = [\"a\", \"corgi\"]\n",
        "G.add_edge(*a_corgi_edge)\n",
        "nx.draw_networkx(G)"
      ],
      "execution_count": 22,
      "outputs": [
        {
          "output_type": "display_data",
          "data": {
            "image/png": "[encoded data removed]",
            "text/plain": [
              "<Figure size 432x288 with 1 Axes>"
            ]
          },
          "metadata": {
            "tags": []
          }
        }
      ]
    },
    {
      "cell_type": "code",
      "metadata": {
        "id": "UIOEhkKz3XTD",
        "colab_type": "code",
        "colab": {
          "base_uri": "https://localhost:8080/",
          "height": 34
        },
        "outputId": "7f7d1cff-72c3-4eb5-ee71-32d3211b54d3"
      },
      "source": [
        "H = nx.Graph()\n",
        "\n",
        "edgelist_02 = [[\"Tony Stark\", \"Steve Rogers\"], [\"Steve Rogers\", \"Bucky Barnes\"], [\"Bucky Barnes\", \"Vision\"], [\"Vision\", \"Tony Stark\"]]\n",
        "\n",
        "H.add_edges_from(edgelist_02)\n",
        "H.nodes"
      ],
      "execution_count": 24,
      "outputs": [
        {
          "output_type": "execute_result",
          "data": {
            "text/plain": [
              "NodeView(('Tony Stark', 'Steve Rogers', 'Bucky Barnes', 'Vision'))"
            ]
          },
          "metadata": {
            "tags": []
          },
          "execution_count": 24
        }
      ]
    },
    {
      "cell_type": "code",
      "metadata": {
        "id": "55byG9Hp33w8",
        "colab_type": "code",
        "colab": {
          "base_uri": "https://localhost:8080/",
          "height": 34
        },
        "outputId": "5698dd04-5b5a-4ee2-b2da-ce1ae63c1136"
      },
      "source": [
        "H.edges"
      ],
      "execution_count": 25,
      "outputs": [
        {
          "output_type": "execute_result",
          "data": {
            "text/plain": [
              "EdgeView([('Tony Stark', 'Steve Rogers'), ('Tony Stark', 'Vision'), ('Steve Rogers', 'Bucky Barnes'), ('Bucky Barnes', 'Vision')])"
            ]
          },
          "metadata": {
            "tags": []
          },
          "execution_count": 25
        }
      ]
    },
    {
      "cell_type": "code",
      "metadata": {
        "id": "TP85Sbek6-i2",
        "colab_type": "code",
        "colab": {
          "base_uri": "https://localhost:8080/",
          "height": 248
        },
        "outputId": "e6d5136a-e1df-40f8-e072-93033d823112"
      },
      "source": [
        "nx.draw_networkx(H)"
      ],
      "execution_count": 26,
      "outputs": [
        {
          "output_type": "display_data",
          "data": {
            "image/png": "[encoded data removed]",
            "text/plain": [
              "<Figure size 432x288 with 1 Axes>"
            ]
          },
          "metadata": {
            "tags": []
          }
        }
      ]
    },
    {
      "cell_type": "code",
      "metadata": {
        "id": "V0DyHL6h3665",
        "colab_type": "code",
        "colab": {}
      },
      "source": [
        "G.add_nodes_from(H)"
      ],
      "execution_count": 0,
      "outputs": []
    },
    {
      "cell_type": "code",
      "metadata": {
        "id": "BqkB7sPx4BGL",
        "colab_type": "code",
        "colab": {
          "base_uri": "https://localhost:8080/",
          "height": 34
        },
        "outputId": "f8029746-2aaa-4abc-e440-cbc5c0e0c686"
      },
      "source": [
        "G.nodes"
      ],
      "execution_count": 28,
      "outputs": [
        {
          "output_type": "execute_result",
          "data": {
            "text/plain": [
              "NodeView(('a', 'b', 1, 'c', 'corgi', 'p', 'o', 'd', 'l', 'e', 'Tony Stark', 'Steve Rogers', 'Bucky Barnes', 'Vision'))"
            ]
          },
          "metadata": {
            "tags": []
          },
          "execution_count": 28
        }
      ]
    },
    {
      "cell_type": "code",
      "metadata": {
        "id": "sG-pBUj14CZe",
        "colab_type": "code",
        "colab": {
          "base_uri": "https://localhost:8080/",
          "height": 34
        },
        "outputId": "12311ba8-1822-4b33-f09f-f87c02f8dd12"
      },
      "source": [
        "G.edges"
      ],
      "execution_count": 29,
      "outputs": [
        {
          "output_type": "execute_result",
          "data": {
            "text/plain": [
              "EdgeView([('a', 'b'), ('a', 'corgi'), ('b', 1), (1, 'c'), ('corgi', 'e'), ('corgi', 'o'), ('p', 'o'), ('p', 'l'), ('o', 'd')])"
            ]
          },
          "metadata": {
            "tags": []
          },
          "execution_count": 29
        }
      ]
    },
    {
      "cell_type": "code",
      "metadata": {
        "id": "2CS50clM4DxK",
        "colab_type": "code",
        "colab": {}
      },
      "source": [
        "G.add_edges_from(H.edges)"
      ],
      "execution_count": 0,
      "outputs": []
    },
    {
      "cell_type": "code",
      "metadata": {
        "id": "ifKfHf944HVa",
        "colab_type": "code",
        "colab": {
          "base_uri": "https://localhost:8080/",
          "height": 54
        },
        "outputId": "6021089a-c3b0-4ccb-8e5c-96ef85396151"
      },
      "source": [
        "G.edges"
      ],
      "execution_count": 31,
      "outputs": [
        {
          "output_type": "execute_result",
          "data": {
            "text/plain": [
              "EdgeView([('a', 'b'), ('a', 'corgi'), ('b', 1), (1, 'c'), ('corgi', 'e'), ('corgi', 'o'), ('p', 'o'), ('p', 'l'), ('o', 'd'), ('Tony Stark', 'Steve Rogers'), ('Tony Stark', 'Vision'), ('Steve Rogers', 'Bucky Barnes'), ('Bucky Barnes', 'Vision')])"
            ]
          },
          "metadata": {
            "tags": []
          },
          "execution_count": 31
        }
      ]
    },
    {
      "cell_type": "code",
      "metadata": {
        "id": "dRoudrH_7JFr",
        "colab_type": "code",
        "colab": {
          "base_uri": "https://localhost:8080/",
          "height": 248
        },
        "outputId": "e95c2757-eb2f-4dc1-d0f1-ca1a19772f1a"
      },
      "source": [
        "avengers_corgi_edge = [\"Tony Stark\", \"corgi\"]\n",
        "G.add_edge(*avengers_corgi_edge)\n",
        "nx.draw_networkx(G)"
      ],
      "execution_count": 33,
      "outputs": [
        {
          "output_type": "display_data",
          "data": {
            "image/png": "[encoded data removed]",
            "text/plain": [
              "<Figure size 432x288 with 1 Axes>"
            ]
          },
          "metadata": {
            "tags": []
          }
        }
      ]
    },
    {
      "cell_type": "code",
      "metadata": {
        "id": "NbiyoMR94LNI",
        "colab_type": "code",
        "colab": {
          "base_uri": "https://localhost:8080/",
          "height": 34
        },
        "outputId": "15579cef-136d-4f72-8670-39a8900dd510"
      },
      "source": [
        "I = nx.Graph()\n",
        "edgelist_03 = [[\"Batman\", \"Superman\"], [\"Wonderwoman\", \"Batman\"], [\"Superman\", \"Wonderwoman\"], [\"Batman\", \"Flash\"], [\"Batman\", \"Joker\"]]\n",
        "I.add_edges_from(edgelist_03)\n",
        "I.edges"
      ],
      "execution_count": 34,
      "outputs": [
        {
          "output_type": "execute_result",
          "data": {
            "text/plain": [
              "EdgeView([('Batman', 'Superman'), ('Batman', 'Wonderwoman'), ('Batman', 'Flash'), ('Batman', 'Joker'), ('Superman', 'Wonderwoman')])"
            ]
          },
          "metadata": {
            "tags": []
          },
          "execution_count": 34
        }
      ]
    },
    {
      "cell_type": "code",
      "metadata": {
        "id": "ZbrFf6YN4fJD",
        "colab_type": "code",
        "colab": {
          "base_uri": "https://localhost:8080/",
          "height": 34
        },
        "outputId": "9c00caa9-93a5-4f4e-ad03-a243c07b8531"
      },
      "source": [
        "I.nodes"
      ],
      "execution_count": 35,
      "outputs": [
        {
          "output_type": "execute_result",
          "data": {
            "text/plain": [
              "NodeView(('Batman', 'Superman', 'Wonderwoman', 'Flash', 'Joker'))"
            ]
          },
          "metadata": {
            "tags": []
          },
          "execution_count": 35
        }
      ]
    },
    {
      "cell_type": "code",
      "metadata": {
        "id": "-uNGwt__7dND",
        "colab_type": "code",
        "colab": {
          "base_uri": "https://localhost:8080/",
          "height": 248
        },
        "outputId": "1b58b178-74e4-428e-d74c-0c19c2c40ada"
      },
      "source": [
        "nx.draw_networkx(I)"
      ],
      "execution_count": 36,
      "outputs": [
        {
          "output_type": "display_data",
          "data": {
            "image/png": "[encoded data removed]",
            "text/plain": [
              "<Figure size 432x288 with 1 Axes>"
            ]
          },
          "metadata": {
            "tags": []
          }
        }
      ]
    },
    {
      "cell_type": "code",
      "metadata": {
        "id": "BOSpvVky4f9H",
        "colab_type": "code",
        "colab": {
          "base_uri": "https://localhost:8080/",
          "height": 34
        },
        "outputId": "cc18aa3d-c26b-48a6-ac5c-58dd680279b1"
      },
      "source": [
        "G.add_node(I)\n",
        "G.nodes"
      ],
      "execution_count": 37,
      "outputs": [
        {
          "output_type": "execute_result",
          "data": {
            "text/plain": [
              "NodeView(('a', 'b', 1, 'c', 'corgi', 'p', 'o', 'd', 'l', 'e', 'Tony Stark', 'Steve Rogers', 'Bucky Barnes', 'Vision', <networkx.classes.graph.Graph object at 0x7fe13fb17f98>))"
            ]
          },
          "metadata": {
            "tags": []
          },
          "execution_count": 37
        }
      ]
    },
    {
      "cell_type": "code",
      "metadata": {
        "id": "wgh_aFRQ4nu3",
        "colab_type": "code",
        "colab": {
          "base_uri": "https://localhost:8080/",
          "height": 54
        },
        "outputId": "c32216ef-fa5e-4ba8-86f1-3d18a6ae6161"
      },
      "source": [
        "G.add_edge(\"Vision\", I)\n",
        "G.edges"
      ],
      "execution_count": 38,
      "outputs": [
        {
          "output_type": "execute_result",
          "data": {
            "text/plain": [
              "EdgeView([('a', 'b'), ('a', 'corgi'), ('b', 1), (1, 'c'), ('corgi', 'e'), ('corgi', 'o'), ('corgi', 'Tony Stark'), ('p', 'o'), ('p', 'l'), ('o', 'd'), ('Tony Stark', 'Steve Rogers'), ('Tony Stark', 'Vision'), ('Steve Rogers', 'Bucky Barnes'), ('Bucky Barnes', 'Vision'), ('Vision', <networkx.classes.graph.Graph object at 0x7fe13fb17f98>)])"
            ]
          },
          "metadata": {
            "tags": []
          },
          "execution_count": 38
        }
      ]
    },
    {
      "cell_type": "code",
      "metadata": {
        "id": "6VlBrtjx4vmE",
        "colab_type": "code",
        "colab": {
          "base_uri": "https://localhost:8080/",
          "height": 248
        },
        "outputId": "a77cba56-1234-4e96-ea0d-268846fbf3b7"
      },
      "source": [
        "nx.draw_networkx(G)"
      ],
      "execution_count": 39,
      "outputs": [
        {
          "output_type": "display_data",
          "data": {
            "image/png": "[encoded data removed]",
            "text/plain": [
              "<Figure size 432x288 with 1 Axes>"
            ]
          },
          "metadata": {
            "tags": []
          }
        }
      ]
    },
    {
      "cell_type": "code",
      "metadata": {
        "id": "R2KYmGnY43S1",
        "colab_type": "code",
        "colab": {
          "base_uri": "https://localhost:8080/",
          "height": 34
        },
        "outputId": "4f73105f-b6d7-4777-c8bd-d3753e44eae6"
      },
      "source": [
        "H.clear()\n",
        "H.nodes"
      ],
      "execution_count": 41,
      "outputs": [
        {
          "output_type": "execute_result",
          "data": {
            "text/plain": [
              "NodeView(())"
            ]
          },
          "metadata": {
            "tags": []
          },
          "execution_count": 41
        }
      ]
    },
    {
      "cell_type": "code",
      "metadata": {
        "id": "84Dq3iJS7oPt",
        "colab_type": "code",
        "colab": {
          "base_uri": "https://localhost:8080/",
          "height": 248
        },
        "outputId": "ef30abb4-c1b4-41bf-b916-6964e71647d3"
      },
      "source": [
        "nx.draw_networkx(G)"
      ],
      "execution_count": 44,
      "outputs": [
        {
          "output_type": "display_data",
          "data": {
            "image/png": "[encoded data removed]",
            "text/plain": [
              "<Figure size 432x288 with 1 Axes>"
            ]
          },
          "metadata": {
            "tags": []
          }
        }
      ]
    },
    {
      "cell_type": "code",
      "metadata": {
        "id": "UWxkjwPK7sj2",
        "colab_type": "code",
        "colab": {}
      },
      "source": [
        ""
      ],
      "execution_count": 0,
      "outputs": []
    }
  ]
}